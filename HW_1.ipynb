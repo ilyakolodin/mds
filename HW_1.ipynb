{
  "nbformat": 4,
  "nbformat_minor": 0,
  "metadata": {
    "colab": {
      "name": "HW_ 1",
      "provenance": []
    },
    "kernelspec": {
      "name": "python3",
      "display_name": "Python 3"
    }
  },
  "cells": [
    {
      "cell_type": "markdown",
      "metadata": {
        "id": "_kX74ytuOfgy"
      },
      "source": [
        "# Домашнее задание \"Линейная алгебра. Векторы\"."
      ]
    },
    {
      "cell_type": "markdown",
      "metadata": {
        "id": "rzDIWhwiKxdO"
      },
      "source": [
        "Даны вектора x = (1,1), y = (2, 0) и z = (0,2)\n",
        "\n",
        "Надо:\n",
        "- Изобразить вектора на экране\n",
        "- Изобразить точку x + y + z\n",
        "- Найти угол между векторами x и y\n",
        "\n"
      ]
    }
  ]
}