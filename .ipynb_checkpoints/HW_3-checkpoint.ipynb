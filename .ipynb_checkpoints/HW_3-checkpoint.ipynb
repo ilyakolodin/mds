{
 "cells": [
  {
   "cell_type": "markdown",
   "metadata": {
    "id": "pqJ3l8E1PXFU"
   },
   "source": [
    "# Домашнее задание \"Продвинутая линейная алгебра\"."
   ]
  },
  {
   "cell_type": "markdown",
   "metadata": {
    "id": "xV6YXX6VPjiM"
   },
   "source": [
    "### Уровень 0:"
   ]
  },
  {
   "cell_type": "markdown",
   "metadata": {
    "id": "sdJhzn3YPCZG"
   },
   "source": [
    "Придумайте матрицы, которые обладают следующими свойствами:\n",
    "\n",
    "a) Диагональная, ортогональная, но не единичная(!)\n",
    "\n",
    "b) Верхнетреугольная, ортогональная\n",
    "\n",
    "c) Нижнетреугольная, ортогональная\n",
    "\n",
    "d) Матрица, у которой определитель = 1, и все элементы не равны 0\n",
    "\n",
    "P.S. Во всех пунктах ответом должна быть ненулевая матрица размерности не менее 2!\n"
   ]
  },
  {
   "cell_type": "code",
   "execution_count": 1,
   "metadata": {},
   "outputs": [],
   "source": [
    "import numpy as np"
   ]
  },
  {
   "cell_type": "code",
   "execution_count": 2,
   "metadata": {
    "scrolled": false
   },
   "outputs": [
    {
     "data": {
      "text/plain": [
       "array([[-1,  0],\n",
       "       [ 0,  1]])"
      ]
     },
     "execution_count": 2,
     "metadata": {},
     "output_type": "execute_result"
    }
   ],
   "source": [
    "a = np.array([[-1, 0],\n",
    "              [0, 1]])\n",
    "a"
   ]
  },
  {
   "cell_type": "markdown",
   "metadata": {},
   "source": [
    "b и c не могут существовать"
   ]
  },
  {
   "cell_type": "code",
   "execution_count": 3,
   "metadata": {},
   "outputs": [
    {
     "data": {
      "text/plain": [
       "array([[1.0001, 0.01  ],\n",
       "       [0.01  , 1.    ]])"
      ]
     },
     "execution_count": 3,
     "metadata": {},
     "output_type": "execute_result"
    }
   ],
   "source": [
    "A = np.array([[1 , 0.01], \n",
    "              [0 ,1]])\n",
    "AT = A.transpose()\n",
    "A.dot(AT)"
   ]
  },
  {
   "cell_type": "code",
   "execution_count": 4,
   "metadata": {},
   "outputs": [
    {
     "data": {
      "text/plain": [
       "1.0"
      ]
     },
     "execution_count": 4,
     "metadata": {},
     "output_type": "execute_result"
    }
   ],
   "source": [
    "d = np.array([[1, 0],\n",
    "              [0, 1]])\n",
    "np.linalg.det(d)"
   ]
  },
  {
   "cell_type": "markdown",
   "metadata": {
    "id": "DoobuSBZQl6d"
   },
   "source": [
    "Найдите собственные значения и собственные вектора матриц:\n",
    "\n",
    "```\n",
    "m = np.array([[2, 2],\n",
    "              [1, 3]])\n",
    "print(m)\n",
    "```"
   ]
  },
  {
   "cell_type": "code",
   "execution_count": 5,
   "metadata": {},
   "outputs": [],
   "source": [
    "m = np.array([[2, 2],\n",
    "              [1, 3]])\n",
    "w, v = np.linalg.eig(m)"
   ]
  },
  {
   "cell_type": "code",
   "execution_count": 6,
   "metadata": {
    "scrolled": true
   },
   "outputs": [
    {
     "name": "stdout",
     "output_type": "stream",
     "text": [
      "Собственное значение 1.0\n",
      "соответствующий ему собственный вектор [-0.89442719  0.4472136 ]\n",
      "Собственное значение 4.0\n",
      "соответствующий ему собственный вектор [-0.70710678 -0.70710678]\n"
     ]
    }
   ],
   "source": [
    "for i in range(len(w)):\n",
    "    print(\"Собственное значение \" + str(w[i]))\n",
    "    print(\"соответствующий ему собственный вектор \" + str(v[:,i]))"
   ]
  },
  {
   "cell_type": "markdown",
   "metadata": {
    "id": "1IymnLDrPCXH"
   },
   "source": [
    "### Уровень 1:"
   ]
  },
  {
   "cell_type": "markdown",
   "metadata": {
    "id": "iJPawZAEPpJO"
   },
   "source": [
    "\n",
    "Найдите спектральное разложение матрицы:\n",
    "\n",
    "```\n",
    "m = np.array([[1, 2],\n",
    "              [2,3]])\n",
    "print(m)\n",
    "```\n"
   ]
  },
  {
   "cell_type": "code",
   "execution_count": 7,
   "metadata": {
    "scrolled": true
   },
   "outputs": [
    {
     "name": "stdout",
     "output_type": "stream",
     "text": [
      "Eigenvalues:\n",
      "[-0.23606798  4.23606798]\n",
      "\n",
      "Eigenvectors:\n",
      "[[-0.85065081 -0.52573111]\n",
      " [ 0.52573111 -0.85065081]]\n"
     ]
    }
   ],
   "source": [
    "m = np.array([[1, 2],\n",
    "              [2,3]])\n",
    "a, U = np.linalg.eig(m)\n",
    "print('Eigenvalues:')\n",
    "print(np.array(a, dtype=float))\n",
    "print('\\nEigenvectors:')\n",
    "print(U)"
   ]
  },
  {
   "cell_type": "code",
   "execution_count": 8,
   "metadata": {
    "scrolled": true
   },
   "outputs": [
    {
     "name": "stdout",
     "output_type": "stream",
     "text": [
      "[[1. 2.]\n",
      " [2. 3.]]\n"
     ]
    }
   ],
   "source": [
    "print(np.array(U.dot(np.diag(a)).dot(U.T), dtype=float))"
   ]
  },
  {
   "cell_type": "markdown",
   "metadata": {
    "id": "V9fcRZltQoRu"
   },
   "source": [
    "Постройте зависимость качества восстановления рукописных цифр (MNIST) в зависимости от различного количества компонент PCA. В качестве метрики различия предлагаю использовать MSE.*\n",
    "\n",
    "\n"
   ]
  },
  {
   "cell_type": "markdown",
   "metadata": {
    "id": "pH2vOABpSMSQ"
   },
   "source": [
    "\n",
    "--------------------------------------------------------------------------------"
   ]
  },
  {
   "cell_type": "markdown",
   "metadata": {
    "id": "d1qAqmOMSMUd"
   },
   "source": [
    "У PCA есть метод transform и inverse_transofrm. Первый - снижает размерность, второй - восстанавливает оригинальные данные с потерей информации.\n",
    "Надо посчитать насколько в среднем точно восстанавливается оригинальная картинка в зависимости от количества компонент в PCA."
   ]
  },
  {
   "cell_type": "markdown",
   "metadata": {
    "id": "THD2Cd1ySPOQ"
   },
   "source": []
  },
  {
   "cell_type": "markdown",
   "metadata": {
    "id": "tosUSbt0QqYG"
   },
   "source": [
    "В качестве справки можно использовать:\n",
    "\n",
    "https://scikit-learn.org/stable/modules/generated/sklearn.decomposition.PCA.html - Документация по PCA\n",
    "\n",
    "https://scikit-learn.org/stable/modules/generated/sklearn.metrics.mean_squared_error.html - Документация по MSE\n",
    "\n",
    "Картинки цифр можно взять отсюда - https://scikit-learn.org/stable/modules/generated/sklearn.datasets.load_digits.html\n"
   ]
  },
  {
   "cell_type": "code",
   "execution_count": 9,
   "metadata": {},
   "outputs": [],
   "source": [
    "from sklearn.datasets import load_digits\n",
    "from sklearn.decomposition import PCA\n",
    "from sklearn.metrics import mean_squared_error"
   ]
  },
  {
   "cell_type": "code",
   "execution_count": 10,
   "metadata": {},
   "outputs": [],
   "source": [
    "X, y = load_digits(return_X_y=True)"
   ]
  },
  {
   "cell_type": "code",
   "execution_count": 11,
   "metadata": {
    "scrolled": true
   },
   "outputs": [
    {
     "data": {
      "text/plain": [
       "array([[ 0.,  0.,  5., ...,  0.,  0.,  0.],\n",
       "       [ 0.,  0.,  0., ..., 10.,  0.,  0.],\n",
       "       [ 0.,  0.,  0., ..., 16.,  9.,  0.],\n",
       "       ...,\n",
       "       [ 0.,  0.,  1., ...,  6.,  0.,  0.],\n",
       "       [ 0.,  0.,  2., ..., 12.,  0.,  0.],\n",
       "       [ 0.,  0., 10., ..., 12.,  1.,  0.]])"
      ]
     },
     "execution_count": 11,
     "metadata": {},
     "output_type": "execute_result"
    }
   ],
   "source": [
    "X"
   ]
  },
  {
   "cell_type": "code",
   "execution_count": 12,
   "metadata": {
    "scrolled": true
   },
   "outputs": [
    {
     "data": {
      "text/plain": [
       "[15.977678462234838,\n",
       " 13.421012200761474,\n",
       " 11.206800697129216,\n",
       " 9.627986407131084,\n",
       " 8.542447615190921]"
      ]
     },
     "execution_count": 12,
     "metadata": {},
     "output_type": "execute_result"
    }
   ],
   "source": [
    "list_mean_squared_error = []\n",
    "for i in range(1,65):\n",
    "    pca = PCA(n_components=i)\n",
    "    pca.fit(X)\n",
    "    Z = pca.inverse_transform(pca.transform(X)) \n",
    "    list_mean_squared_error.append(mean_squared_error(X,Z))\n",
    "    \n",
    "list_mean_squared_error[:5]"
   ]
  },
  {
   "cell_type": "code",
   "execution_count": 14,
   "metadata": {},
   "outputs": [
    {
     "data": {
      "image/png": "[encoded data removed]",
      "text/plain": [
       "<Figure size 432x288 with 1 Axes>"
      ]
     },
     "metadata": {
      "needs_background": "light"
     },
     "output_type": "display_data"
    }
   ],
   "source": [
    "from matplotlib import pyplot as plt\n",
    "plt.plot(range(1,65),list_mean_squared_error)\n",
    "plt.show()"
   ]
  }
 ],
 "metadata": {
  "colab": {
   "collapsed_sections": [],
   "name": "HW_3",
   "provenance": []
  },
  "kernelspec": {
   "display_name": "Python 3",
   "language": "python",
   "name": "python3"
  },
  "language_info": {
   "codemirror_mode": {
    "name": "ipython",
    "version": 3
   },
   "file_extension": ".py",
   "mimetype": "text/x-python",
   "name": "python",
   "nbconvert_exporter": "python",
   "pygments_lexer": "ipython3",
   "version": "3.7.2"
  }
 },
 "nbformat": 4,
 "nbformat_minor": 1
}
