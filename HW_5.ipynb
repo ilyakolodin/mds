{
  "nbformat": 4,
  "nbformat_minor": 0,
  "metadata": {
    "colab": {
      "name": "HW_5",
      "provenance": []
    },
    "kernelspec": {
      "name": "python3",
      "display_name": "Python 3"
    }
  },
  "cells": [
    {
      "cell_type": "markdown",
      "metadata": {
        "id": "MDcEqde2UtVJ"
      },
      "source": [
        "# Домашнее задание \"Производная функции нескольких аргументов\"."
      ]
    },
    {
      "cell_type": "code",
      "metadata": {
        "id": "hkGWP9e5TgmG"
      },
      "source": [
        "import numpy as np\n",
        "from scipy.optimize import approx_fprime"
      ],
      "execution_count": null,
      "outputs": []
    },
    {
      "cell_type": "markdown",
      "metadata": {
        "id": "Brjig4o4UnHe"
      },
      "source": [
        "### Уровень 0:"
      ]
    },
    {
      "cell_type": "markdown",
      "metadata": {
        "id": "xOv4al86VAw1"
      },
      "source": [
        "Посчитайте частные производные функций:"
      ]
    },
    {
      "cell_type": "markdown",
      "metadata": {
        "id": "fCyKnRYIUw2j"
      },
      "source": [
        "\n",
        "1) $f(x,y)=2x^2y^3 + 1/x + y^2x + 7$, а для этой функции также градиент в точке $(1,2)$\n",
        "\n",
        "2) $f(x,y)=x^2y - sin(xy) + cos(x^2) + 6y$"
      ]
    },
    {
      "cell_type": "markdown",
      "metadata": {
        "id": "COzir0ZGVLtz"
      },
      "source": [
        "### Уровень 1:"
      ]
    },
    {
      "cell_type": "markdown",
      "metadata": {
        "id": "VIW3H6ChVOZQ"
      },
      "source": [
        "Градиентный спуск своими руками:"
      ]
    },
    {
      "cell_type": "code",
      "metadata": {
        "id": "rFpy298AUwXs"
      },
      "source": [
        "def f(x):\n",
        "    return (x[0]**2) + (x[1]**2)"
      ],
      "execution_count": null,
      "outputs": []
    },
    {
      "cell_type": "code",
      "metadata": {
        "id": "-QoutSlMcZ7M"
      },
      "source": [
        "x = np.array([100, 200])\n",
        "learning_rate = 0.1"
      ],
      "execution_count": null,
      "outputs": []
    },
    {
      "cell_type": "code",
      "metadata": {
        "id": "kBQCpgyEcZ9j"
      },
      "source": [
        "for i in range(100):\n",
        "    # Calculate gradient\n",
        "    grad = # Your code here (функция для вычисления градиента есть в лекционном ноутбуке)\n",
        "    \n",
        "    # Update x with gradient\n",
        "    x = # Your code here (смотри слайд презентации про градиентный спуск)"
      ],
      "execution_count": null,
      "outputs": []
    },
    {
      "cell_type": "code",
      "metadata": {
        "id": "3rJwR2lecZ_i"
      },
      "source": [
        "print(\"Минимум достигается в: \", x)\n",
        "print(\"Значение функции в минимуме: \", f(x))"
      ],
      "execution_count": null,
      "outputs": []
    },
    {
      "cell_type": "markdown",
      "metadata": {
        "id": "eAw4uXx_UnJk"
      },
      "source": [
        "\n",
        "Проверка с помощью встроенной функции numpy:"
      ]
    },
    {
      "cell_type": "code",
      "metadata": {
        "id": "_O-rTJ1yciMI"
      },
      "source": [
        ""
      ],
      "execution_count": null,
      "outputs": []
    }
  ]
}