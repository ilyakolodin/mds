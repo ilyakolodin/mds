{
  "nbformat": 4,
  "nbformat_minor": 0,
  "metadata": {
    "colab": {
      "name": "HW_9",
      "provenance": []
    },
    "kernelspec": {
      "name": "python3",
      "display_name": "Python 3"
    }
  },
  "cells": [
    {
      "cell_type": "markdown",
      "metadata": {
        "id": "rPddd74VhkfN"
      },
      "source": [
        "# Домашнее задание \"Центральная Предельная Теорема и Закон Больших Чисел\"."
      ]
    },
    {
      "cell_type": "markdown",
      "metadata": {
        "id": "1xu7dfnnhkhe"
      },
      "source": [
        "## Задание."
      ]
    },
    {
      "cell_type": "markdown",
      "metadata": {
        "id": "zsrwAGpYhkjt"
      },
      "source": [
        "В этом задании нужно убедиться, что ЦПТ действительно работает."
      ]
    },
    {
      "cell_type": "code",
      "metadata": {
        "id": "0gLLPjJiiRm2"
      },
      "source": [
        "import pandas as pd\n",
        "import numpy as np\n",
        "import matplotlib.pyplot as plt\n",
        "import scipy.stats as sts\n",
        "%matplotlib inline"
      ],
      "execution_count": null,
      "outputs": []
    },
    {
      "cell_type": "markdown",
      "metadata": {
        "id": "uI8KNiPUhkly"
      },
      "source": [
        "Создайте случайную величину из любого выбранного вами распределения, для разных значений n сгенерируйте 1000 выборок размера n и постройте гистрограммы средних этих выборок."
      ]
    },
    {
      "cell_type": "code",
      "metadata": {
        "id": "ZvGvPtzViURC"
      },
      "source": [
        "rv = ### YOUR CODE HERE\n",
        "sample = rv.rvs(size=1000)"
      ],
      "execution_count": null,
      "outputs": []
    },
    {
      "cell_type": "code",
      "metadata": {
        "id": "XSpWp8P3iUfO"
      },
      "source": [
        "x = np.linspace(0,2,100)\n",
        "pdf = rv.pdf(x)\n",
        "plt.hist(sample, density=True, bins=30, label='sample histogram')\n",
        "plt.plot(x, pdf, label='theoretical pdf', alpha=0.5)\n",
        "plt.legend()\n",
        "plt.ylabel('fraction of samples, $f(x)$')\n",
        "plt.xlabel('$x$')\n",
        "plt.show()"
      ],
      "execution_count": null,
      "outputs": []
    },
    {
      "cell_type": "code",
      "metadata": {
        "id": "Rm7dyNaRib1G"
      },
      "source": [
        "# Параметры запуска: размеры выборок и количество повторов генерации\n",
        "n1 = 2\n",
        "# YOUR CODE HERE\n",
        "\n",
        "samples_count = 1000\n",
        "# Массивы для сохранения средних по выборкам\n",
        "a1 = np.array([])\n",
        "\n",
        "for number in range(samples_count):\n",
        "    # На каждом цикле генерируем выборки разных размеров\n",
        "    sample1 = rv.rvs(size=n1)\n",
        "    # YOUR CODE HERE\n",
        "    # Считаем среднее по каждой выборке и добавляем в массив средних\n",
        "    a1 = np.append(a1, sample1.mean())\n",
        "    # YOUR CODE HERE"
      ],
      "execution_count": null,
      "outputs": []
    },
    {
      "cell_type": "code",
      "metadata": {
        "id": "vEkIWfggib5p"
      },
      "source": [
        "# Строим графики\n",
        "# Подписи для графиков\n",
        "label_1 = 'sample of ' + str(n1) + ' histogram'\n",
        "plt.hist(a1, density=True, label=label_1)\n",
        "\n",
        "plt.legend()\n",
        "plt.ylabel('samples means')\n",
        "plt.xlabel('$x$')"
      ],
      "execution_count": null,
      "outputs": []
    }
  ]
}